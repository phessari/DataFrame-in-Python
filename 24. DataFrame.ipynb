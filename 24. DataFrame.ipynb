{
 "cells": [
  {
   "cell_type": "markdown",
   "id": "7d4beb40",
   "metadata": {},
   "source": [
    "# DataFrame\n",
    "\n",
    "DataFrame is a 2-dimensional labeled data structure with columns of potentially different types."
   ]
  },
  {
   "cell_type": "code",
   "execution_count": 1,
   "id": "1aa84d5f",
   "metadata": {},
   "outputs": [],
   "source": [
    "import pandas as pd"
   ]
  },
  {
   "cell_type": "code",
   "execution_count": 2,
   "id": "466a4248",
   "metadata": {},
   "outputs": [
    {
     "data": {
      "text/html": [
       "<div>\n",
       "<style scoped>\n",
       "    .dataframe tbody tr th:only-of-type {\n",
       "        vertical-align: middle;\n",
       "    }\n",
       "\n",
       "    .dataframe tbody tr th {\n",
       "        vertical-align: top;\n",
       "    }\n",
       "\n",
       "    .dataframe thead th {\n",
       "        text-align: right;\n",
       "    }\n",
       "</style>\n",
       "<table border=\"1\" class=\"dataframe\">\n",
       "  <thead>\n",
       "    <tr style=\"text-align: right;\">\n",
       "      <th></th>\n",
       "    </tr>\n",
       "  </thead>\n",
       "  <tbody>\n",
       "  </tbody>\n",
       "</table>\n",
       "</div>"
      ],
      "text/plain": [
       "Empty DataFrame\n",
       "Columns: []\n",
       "Index: []"
      ]
     },
     "execution_count": 2,
     "metadata": {},
     "output_type": "execute_result"
    }
   ],
   "source": [
    "myDataframe = pd.DataFrame()\n",
    "myDataframe"
   ]
  },
  {
   "cell_type": "code",
   "execution_count": null,
   "id": "51374cba",
   "metadata": {},
   "outputs": [],
   "source": []
  },
  {
   "cell_type": "code",
   "execution_count": null,
   "id": "37f7810a",
   "metadata": {},
   "outputs": [],
   "source": []
  },
  {
   "cell_type": "markdown",
   "id": "65296750",
   "metadata": {},
   "source": [
    " ### Define a DataFrame:\n",
    " \n",
    " 1. Using Dictionary"
   ]
  },
  {
   "cell_type": "code",
   "execution_count": 3,
   "id": "6728cb1f",
   "metadata": {},
   "outputs": [
    {
     "data": {
      "text/html": [
       "<div>\n",
       "<style scoped>\n",
       "    .dataframe tbody tr th:only-of-type {\n",
       "        vertical-align: middle;\n",
       "    }\n",
       "\n",
       "    .dataframe tbody tr th {\n",
       "        vertical-align: top;\n",
       "    }\n",
       "\n",
       "    .dataframe thead th {\n",
       "        text-align: right;\n",
       "    }\n",
       "</style>\n",
       "<table border=\"1\" class=\"dataframe\">\n",
       "  <thead>\n",
       "    <tr style=\"text-align: right;\">\n",
       "      <th></th>\n",
       "      <th>Name</th>\n",
       "      <th>Age</th>\n",
       "      <th>Province</th>\n",
       "    </tr>\n",
       "  </thead>\n",
       "  <tbody>\n",
       "    <tr>\n",
       "      <th>0</th>\n",
       "      <td>James</td>\n",
       "      <td>23</td>\n",
       "      <td>AB</td>\n",
       "    </tr>\n",
       "    <tr>\n",
       "      <th>1</th>\n",
       "      <td>Daniel</td>\n",
       "      <td>45</td>\n",
       "      <td>ON</td>\n",
       "    </tr>\n",
       "    <tr>\n",
       "      <th>2</th>\n",
       "      <td>George</td>\n",
       "      <td>32</td>\n",
       "      <td>BC</td>\n",
       "    </tr>\n",
       "    <tr>\n",
       "      <th>3</th>\n",
       "      <td>Alex</td>\n",
       "      <td>43</td>\n",
       "      <td>QC</td>\n",
       "    </tr>\n",
       "  </tbody>\n",
       "</table>\n",
       "</div>"
      ],
      "text/plain": [
       "     Name  Age Province\n",
       "0   James   23       AB\n",
       "1  Daniel   45       ON\n",
       "2  George   32       BC\n",
       "3    Alex   43       QC"
      ]
     },
     "execution_count": 3,
     "metadata": {},
     "output_type": "execute_result"
    }
   ],
   "source": [
    "myDict = {'Name': ['James','Daniel', 'George', 'Alex'],\n",
    "       'Age' : [23, 45, 32, 43],\n",
    "       'Province' : ['AB', 'ON', 'BC', 'QC']}\n",
    "myDataframe = pd.DataFrame(myDict)\n",
    "myDataframe"
   ]
  },
  {
   "cell_type": "code",
   "execution_count": 4,
   "id": "90d393d4",
   "metadata": {},
   "outputs": [
    {
     "data": {
      "text/html": [
       "<div>\n",
       "<style scoped>\n",
       "    .dataframe tbody tr th:only-of-type {\n",
       "        vertical-align: middle;\n",
       "    }\n",
       "\n",
       "    .dataframe tbody tr th {\n",
       "        vertical-align: top;\n",
       "    }\n",
       "\n",
       "    .dataframe thead th {\n",
       "        text-align: right;\n",
       "    }\n",
       "</style>\n",
       "<table border=\"1\" class=\"dataframe\">\n",
       "  <thead>\n",
       "    <tr style=\"text-align: right;\">\n",
       "      <th></th>\n",
       "      <th>Name</th>\n",
       "      <th>Age</th>\n",
       "      <th>Province</th>\n",
       "    </tr>\n",
       "  </thead>\n",
       "  <tbody>\n",
       "    <tr>\n",
       "      <th>a</th>\n",
       "      <td>James</td>\n",
       "      <td>23</td>\n",
       "      <td>AB</td>\n",
       "    </tr>\n",
       "    <tr>\n",
       "      <th>b</th>\n",
       "      <td>Daniel</td>\n",
       "      <td>45</td>\n",
       "      <td>ON</td>\n",
       "    </tr>\n",
       "    <tr>\n",
       "      <th>c</th>\n",
       "      <td>George</td>\n",
       "      <td>32</td>\n",
       "      <td>BC</td>\n",
       "    </tr>\n",
       "    <tr>\n",
       "      <th>d</th>\n",
       "      <td>Alex</td>\n",
       "      <td>43</td>\n",
       "      <td>QC</td>\n",
       "    </tr>\n",
       "  </tbody>\n",
       "</table>\n",
       "</div>"
      ],
      "text/plain": [
       "     Name  Age Province\n",
       "a   James   23       AB\n",
       "b  Daniel   45       ON\n",
       "c  George   32       BC\n",
       "d    Alex   43       QC"
      ]
     },
     "execution_count": 4,
     "metadata": {},
     "output_type": "execute_result"
    }
   ],
   "source": [
    "myDataframe = pd.DataFrame(myDict, index=['a', 'b', 'c', 'd'])\n",
    "myDataframe"
   ]
  },
  {
   "cell_type": "markdown",
   "id": "3fd08e9a",
   "metadata": {},
   "source": [
    "2. Define an empty DataFrame and add rows"
   ]
  },
  {
   "cell_type": "code",
   "execution_count": 5,
   "id": "479ebe8d",
   "metadata": {},
   "outputs": [
    {
     "data": {
      "text/html": [
       "<div>\n",
       "<style scoped>\n",
       "    .dataframe tbody tr th:only-of-type {\n",
       "        vertical-align: middle;\n",
       "    }\n",
       "\n",
       "    .dataframe tbody tr th {\n",
       "        vertical-align: top;\n",
       "    }\n",
       "\n",
       "    .dataframe thead th {\n",
       "        text-align: right;\n",
       "    }\n",
       "</style>\n",
       "<table border=\"1\" class=\"dataframe\">\n",
       "  <thead>\n",
       "    <tr style=\"text-align: right;\">\n",
       "      <th></th>\n",
       "      <th>Name</th>\n",
       "      <th>Age</th>\n",
       "      <th>province</th>\n",
       "    </tr>\n",
       "  </thead>\n",
       "  <tbody>\n",
       "  </tbody>\n",
       "</table>\n",
       "</div>"
      ],
      "text/plain": [
       "Empty DataFrame\n",
       "Columns: [Name, Age, province]\n",
       "Index: []"
      ]
     },
     "execution_count": 5,
     "metadata": {},
     "output_type": "execute_result"
    }
   ],
   "source": [
    "cols = ['Name', 'Age', \"province\"]\n",
    "myDataframe1 = pd.DataFrame(columns=cols)\n",
    "myDataframe1"
   ]
  },
  {
   "cell_type": "code",
   "execution_count": 6,
   "id": "efb651b9",
   "metadata": {},
   "outputs": [
    {
     "data": {
      "text/html": [
       "<div>\n",
       "<style scoped>\n",
       "    .dataframe tbody tr th:only-of-type {\n",
       "        vertical-align: middle;\n",
       "    }\n",
       "\n",
       "    .dataframe tbody tr th {\n",
       "        vertical-align: top;\n",
       "    }\n",
       "\n",
       "    .dataframe thead th {\n",
       "        text-align: right;\n",
       "    }\n",
       "</style>\n",
       "<table border=\"1\" class=\"dataframe\">\n",
       "  <thead>\n",
       "    <tr style=\"text-align: right;\">\n",
       "      <th></th>\n",
       "      <th>Name</th>\n",
       "      <th>Age</th>\n",
       "      <th>province</th>\n",
       "    </tr>\n",
       "  </thead>\n",
       "  <tbody>\n",
       "    <tr>\n",
       "      <th>0</th>\n",
       "      <td>James</td>\n",
       "      <td>23</td>\n",
       "      <td>AB</td>\n",
       "    </tr>\n",
       "  </tbody>\n",
       "</table>\n",
       "</div>"
      ],
      "text/plain": [
       "    Name Age province\n",
       "0  James  23       AB"
      ]
     },
     "execution_count": 6,
     "metadata": {},
     "output_type": "execute_result"
    }
   ],
   "source": [
    "myDataframe1 = myDataframe1.append(\n",
    "    {'Name' : 'James', 'Age' : 23, \"province\" : \"AB\"}, ignore_index=True)\n",
    "myDataframe1"
   ]
  },
  {
   "cell_type": "code",
   "execution_count": 7,
   "id": "ea6c46af",
   "metadata": {},
   "outputs": [
    {
     "data": {
      "text/html": [
       "<div>\n",
       "<style scoped>\n",
       "    .dataframe tbody tr th:only-of-type {\n",
       "        vertical-align: middle;\n",
       "    }\n",
       "\n",
       "    .dataframe tbody tr th {\n",
       "        vertical-align: top;\n",
       "    }\n",
       "\n",
       "    .dataframe thead th {\n",
       "        text-align: right;\n",
       "    }\n",
       "</style>\n",
       "<table border=\"1\" class=\"dataframe\">\n",
       "  <thead>\n",
       "    <tr style=\"text-align: right;\">\n",
       "      <th></th>\n",
       "      <th>Name</th>\n",
       "      <th>Age</th>\n",
       "      <th>province</th>\n",
       "    </tr>\n",
       "  </thead>\n",
       "  <tbody>\n",
       "    <tr>\n",
       "      <th>0</th>\n",
       "      <td>James</td>\n",
       "      <td>23</td>\n",
       "      <td>AB</td>\n",
       "    </tr>\n",
       "    <tr>\n",
       "      <th>1</th>\n",
       "      <td>Daniel</td>\n",
       "      <td>45</td>\n",
       "      <td>ON</td>\n",
       "    </tr>\n",
       "  </tbody>\n",
       "</table>\n",
       "</div>"
      ],
      "text/plain": [
       "     Name Age province\n",
       "0   James  23       AB\n",
       "1  Daniel  45       ON"
      ]
     },
     "execution_count": 7,
     "metadata": {},
     "output_type": "execute_result"
    }
   ],
   "source": [
    "myDataframe1 = myDataframe1.append(\n",
    "    {'Name' : 'Daniel', 'Age' : 45, \"province\" : \"ON\"}, ignore_index=True)\n",
    "myDataframe1"
   ]
  },
  {
   "cell_type": "code",
   "execution_count": null,
   "id": "7898c2dd",
   "metadata": {},
   "outputs": [],
   "source": []
  },
  {
   "cell_type": "markdown",
   "id": "6d54a990",
   "metadata": {},
   "source": [
    "3. Define an empty DataFrame and add columns"
   ]
  },
  {
   "cell_type": "code",
   "execution_count": null,
   "id": "af75f3a9",
   "metadata": {},
   "outputs": [],
   "source": [
    "myDataframe3 = pd.DataFrame()\n",
    "myDataframe3"
   ]
  },
  {
   "cell_type": "code",
   "execution_count": null,
   "id": "a42699cf",
   "metadata": {},
   "outputs": [],
   "source": [
    "myDataframe3['Name'] = ['James','Daniel', 'George', 'Alex']\n",
    "myDataframe3"
   ]
  },
  {
   "cell_type": "code",
   "execution_count": null,
   "id": "96f34025",
   "metadata": {},
   "outputs": [],
   "source": [
    "myDataframe3['Age'] = [23, 45, 32, 43]\n",
    "myDataframe3['province'] = ['AB', 'ON', 'BC', 'QC']\n",
    "myDataframe3"
   ]
  },
  {
   "cell_type": "code",
   "execution_count": null,
   "id": "8ed87d64",
   "metadata": {},
   "outputs": [],
   "source": []
  },
  {
   "cell_type": "markdown",
   "id": "e7994a50",
   "metadata": {},
   "source": [
    "4. Another way of defining a DataFrame"
   ]
  },
  {
   "cell_type": "code",
   "execution_count": null,
   "id": "0f3ff495",
   "metadata": {},
   "outputs": [],
   "source": [
    "cols = ['Name', 'Age', \"province\"]\n",
    "myDataframe4 = pd.DataFrame(columns=cols, index=['a', 'b', 'c', 'd'])\n",
    "myDataframe4"
   ]
  },
  {
   "cell_type": "markdown",
   "id": "5736135b",
   "metadata": {},
   "source": [
    "### NaN = Not a Number"
   ]
  },
  {
   "cell_type": "code",
   "execution_count": null,
   "id": "d57652b3",
   "metadata": {},
   "outputs": [],
   "source": [
    "myDataframe4['Name'] = ['James','Daniel', 'George', 'Alex']\n",
    "myDataframe4"
   ]
  },
  {
   "cell_type": "code",
   "execution_count": null,
   "id": "c450c0b4",
   "metadata": {},
   "outputs": [],
   "source": []
  },
  {
   "cell_type": "markdown",
   "id": "ebce2ec6",
   "metadata": {},
   "source": [
    "### Access to column name and index"
   ]
  },
  {
   "cell_type": "code",
   "execution_count": null,
   "id": "728b34b6",
   "metadata": {},
   "outputs": [],
   "source": [
    "myDataframe.columns"
   ]
  },
  {
   "cell_type": "code",
   "execution_count": null,
   "id": "969f5368",
   "metadata": {},
   "outputs": [],
   "source": [
    "list(myDataframe.index)"
   ]
  },
  {
   "cell_type": "code",
   "execution_count": null,
   "id": "faae21ac",
   "metadata": {},
   "outputs": [],
   "source": []
  },
  {
   "cell_type": "code",
   "execution_count": null,
   "id": "671e125e",
   "metadata": {},
   "outputs": [],
   "source": []
  },
  {
   "cell_type": "code",
   "execution_count": null,
   "id": "c3e5f760",
   "metadata": {},
   "outputs": [],
   "source": []
  },
  {
   "cell_type": "markdown",
   "id": "2770ff43",
   "metadata": {},
   "source": [
    "### Access to columns "
   ]
  },
  {
   "cell_type": "code",
   "execution_count": null,
   "id": "ed5ee812",
   "metadata": {},
   "outputs": [],
   "source": [
    "myDataframe.Age   # myDataframe['Age']"
   ]
  },
  {
   "cell_type": "code",
   "execution_count": null,
   "id": "52b31555",
   "metadata": {},
   "outputs": [],
   "source": [
    "myDataframe[['Name', 'Age']]"
   ]
  },
  {
   "cell_type": "code",
   "execution_count": null,
   "id": "efcf971b",
   "metadata": {},
   "outputs": [],
   "source": []
  },
  {
   "cell_type": "code",
   "execution_count": null,
   "id": "692f15e0",
   "metadata": {},
   "outputs": [],
   "source": []
  },
  {
   "cell_type": "markdown",
   "id": "60cccf27",
   "metadata": {},
   "source": [
    "### get the values of rows using loc and iloc"
   ]
  },
  {
   "cell_type": "code",
   "execution_count": null,
   "id": "c8eae96e",
   "metadata": {},
   "outputs": [],
   "source": [
    "myDataframe.loc['a']"
   ]
  },
  {
   "cell_type": "code",
   "execution_count": null,
   "id": "31944395",
   "metadata": {},
   "outputs": [],
   "source": [
    "myDataframe.loc[['a', 'b']]"
   ]
  },
  {
   "cell_type": "code",
   "execution_count": null,
   "id": "ed9b393d",
   "metadata": {},
   "outputs": [],
   "source": [
    "myDataframe.iloc[0]"
   ]
  },
  {
   "cell_type": "code",
   "execution_count": null,
   "id": "65abd8b1",
   "metadata": {},
   "outputs": [],
   "source": [
    "myDataframe.iloc[[2,1]]"
   ]
  },
  {
   "cell_type": "code",
   "execution_count": null,
   "id": "74fbb563",
   "metadata": {},
   "outputs": [],
   "source": [
    "myDataframe"
   ]
  },
  {
   "cell_type": "markdown",
   "id": "b80881b1",
   "metadata": {},
   "source": [
    "### Values of a specific elements"
   ]
  },
  {
   "cell_type": "code",
   "execution_count": null,
   "id": "944a4e2d",
   "metadata": {},
   "outputs": [],
   "source": [
    "myDataframe.loc['a', 'Age']"
   ]
  },
  {
   "cell_type": "code",
   "execution_count": null,
   "id": "c978c781",
   "metadata": {},
   "outputs": [],
   "source": [
    "myDataframe.loc['b', ['Name', 'Age']]"
   ]
  },
  {
   "cell_type": "code",
   "execution_count": null,
   "id": "012af7b8",
   "metadata": {},
   "outputs": [],
   "source": [
    "myDataframe.loc[['a', 'b'], ['Name', 'Age']]"
   ]
  },
  {
   "cell_type": "code",
   "execution_count": null,
   "id": "fc2048b1",
   "metadata": {},
   "outputs": [],
   "source": [
    "myDataframe.iloc[[0, 1], [0, 1]]"
   ]
  },
  {
   "cell_type": "code",
   "execution_count": null,
   "id": "55b7fce9",
   "metadata": {},
   "outputs": [],
   "source": []
  },
  {
   "cell_type": "code",
   "execution_count": null,
   "id": "f0fb3b80",
   "metadata": {},
   "outputs": [],
   "source": []
  }
 ],
 "metadata": {
  "kernelspec": {
   "display_name": "Python 3",
   "language": "python",
   "name": "python3"
  },
  "language_info": {
   "codemirror_mode": {
    "name": "ipython",
    "version": 3
   },
   "file_extension": ".py",
   "mimetype": "text/x-python",
   "name": "python",
   "nbconvert_exporter": "python",
   "pygments_lexer": "ipython3",
   "version": "3.8.3"
  }
 },
 "nbformat": 4,
 "nbformat_minor": 5
}

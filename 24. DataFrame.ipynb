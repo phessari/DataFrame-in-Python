{
 "cells": [
  {
   "cell_type": "markdown",
   "id": "6a757569",
   "metadata": {},
   "source": [
    "# DataFrame\n",
    "\n",
    "DataFrame is a 2-dimensional labeled data structure with columns of potentially different types."
   ]
  },
  {
   "cell_type": "code",
   "execution_count": null,
   "id": "8dcb3169",
   "metadata": {},
   "outputs": [],
   "source": [
    "import pandas as pd\n",
    "import numpy as np\n",
    "from IPython import display\n",
    "from sklearn import datasets"
   ]
  },
  {
   "cell_type": "code",
   "execution_count": null,
   "id": "c943c0a4",
   "metadata": {},
   "outputs": [],
   "source": [
    "myDataframe = pd.DataFrame()\n",
    "myDataframe"
   ]
  },
  {
   "cell_type": "code",
   "execution_count": null,
   "id": "0400e6c2",
   "metadata": {},
   "outputs": [],
   "source": []
  },
  {
   "cell_type": "code",
   "execution_count": null,
   "id": "576b20d6",
   "metadata": {},
   "outputs": [],
   "source": []
  },
  {
   "cell_type": "markdown",
   "id": "644a97c0",
   "metadata": {},
   "source": [
    " ### Define a DataFrame:\n",
    " \n",
    " 1. Using Dictionary"
   ]
  },
  {
   "cell_type": "code",
   "execution_count": null,
   "id": "f234c146",
   "metadata": {},
   "outputs": [],
   "source": [
    "myDict = {'Name': ['James','Daniel', 'George', 'Alex'],\n",
    "       'Age' : [23, 45, 32, 43],\n",
    "       'Province' : ['AB', 'ON', 'BC', 'QC']}\n",
    "myDataframe = pd.DataFrame(myDict)\n",
    "myDataframe"
   ]
  },
  {
   "cell_type": "code",
   "execution_count": null,
   "id": "e42b0774",
   "metadata": {},
   "outputs": [],
   "source": [
    "myDataframe = pd.DataFrame(myDict, index=['a', 'b', 'c', 'd'])\n",
    "myDataframe"
   ]
  },
  {
   "cell_type": "markdown",
   "id": "f998b4e9",
   "metadata": {},
   "source": [
    "2. Define an empty DataFrame and add rows"
   ]
  },
  {
   "cell_type": "code",
   "execution_count": null,
   "id": "eb752d56",
   "metadata": {},
   "outputs": [],
   "source": [
    "cols = ['Name', 'Age', \"province\"]\n",
    "myDataframe1 = pd.DataFrame(columns=cols)\n",
    "myDataframe1"
   ]
  },
  {
   "cell_type": "code",
   "execution_count": null,
   "id": "7d0815cd",
   "metadata": {},
   "outputs": [],
   "source": [
    "myDataframe1 = myDataframe1.append(\n",
    "    {'Name' : 'James', 'Age' : 23, \"province\" : \"AB\"}, ignore_index=True)\n",
    "myDataframe1"
   ]
  },
  {
   "cell_type": "code",
   "execution_count": null,
   "id": "c416a91e",
   "metadata": {},
   "outputs": [],
   "source": [
    "myDataframe1 = myDataframe1.append(\n",
    "    {'Name' : 'Daniel', 'Age' : 45, \"province\" : \"ON\"}, ignore_index=True)\n",
    "myDataframe1"
   ]
  },
  {
   "cell_type": "code",
   "execution_count": null,
   "id": "47ef89f3",
   "metadata": {},
   "outputs": [],
   "source": []
  },
  {
   "cell_type": "markdown",
   "id": "a9674d73",
   "metadata": {},
   "source": [
    "3. Define an empty DataFrame and add columns"
   ]
  },
  {
   "cell_type": "code",
   "execution_count": null,
   "id": "547f023c",
   "metadata": {},
   "outputs": [],
   "source": [
    "myDataframe3 = pd.DataFrame()\n",
    "myDataframe3"
   ]
  },
  {
   "cell_type": "code",
   "execution_count": null,
   "id": "89cf93f1",
   "metadata": {},
   "outputs": [],
   "source": [
    "myDataframe3['Name'] = ['James','Daniel', 'George', 'Alex']\n",
    "myDataframe3"
   ]
  },
  {
   "cell_type": "code",
   "execution_count": null,
   "id": "472a8778",
   "metadata": {},
   "outputs": [],
   "source": [
    "myDataframe3['Age'] = [23, 45, 32, 43]\n",
    "myDataframe3['province'] = ['AB', 'ON', 'BC', 'QC']\n",
    "myDataframe3"
   ]
  },
  {
   "cell_type": "code",
   "execution_count": null,
   "id": "9e15b4d4",
   "metadata": {},
   "outputs": [],
   "source": []
  },
  {
   "cell_type": "markdown",
   "id": "6ec328b0",
   "metadata": {},
   "source": [
    "4. Another way of defining a DataFrame"
   ]
  },
  {
   "cell_type": "code",
   "execution_count": null,
   "id": "5fe42fd4",
   "metadata": {},
   "outputs": [],
   "source": [
    "cols = ['Name', 'Age', \"province\"]\n",
    "myDataframe4 = pd.DataFrame(columns=cols, index=['a', 'b', 'c', 'd'])\n",
    "myDataframe4"
   ]
  },
  {
   "cell_type": "markdown",
   "id": "88447fe9",
   "metadata": {},
   "source": [
    "### NaN = Not a Number"
   ]
  },
  {
   "cell_type": "code",
   "execution_count": null,
   "id": "200caae7",
   "metadata": {},
   "outputs": [],
   "source": [
    "myDataframe4['Name'] = ['James','Daniel', 'George', 'Alex']\n",
    "myDataframe4"
   ]
  },
  {
   "cell_type": "code",
   "execution_count": null,
   "id": "0047cf6b",
   "metadata": {},
   "outputs": [],
   "source": []
  },
  {
   "cell_type": "markdown",
   "id": "31c6a568",
   "metadata": {},
   "source": [
    "### Access to column name and index"
   ]
  },
  {
   "cell_type": "code",
   "execution_count": null,
   "id": "f29fd801",
   "metadata": {},
   "outputs": [],
   "source": [
    "myDataframe.columns"
   ]
  },
  {
   "cell_type": "code",
   "execution_count": null,
   "id": "e5dd59ab",
   "metadata": {},
   "outputs": [],
   "source": [
    "list(myDataframe.index)"
   ]
  },
  {
   "cell_type": "code",
   "execution_count": null,
   "id": "81ba8693",
   "metadata": {},
   "outputs": [],
   "source": []
  },
  {
   "cell_type": "code",
   "execution_count": null,
   "id": "4f52024f",
   "metadata": {},
   "outputs": [],
   "source": []
  },
  {
   "cell_type": "code",
   "execution_count": null,
   "id": "338397a9",
   "metadata": {},
   "outputs": [],
   "source": []
  },
  {
   "cell_type": "markdown",
   "id": "1b895630",
   "metadata": {},
   "source": [
    "### Access to columns "
   ]
  },
  {
   "cell_type": "code",
   "execution_count": null,
   "id": "794f950e",
   "metadata": {},
   "outputs": [],
   "source": [
    "myDataframe.Age   # myDataframe['Age']"
   ]
  },
  {
   "cell_type": "code",
   "execution_count": null,
   "id": "e3a4331e",
   "metadata": {},
   "outputs": [],
   "source": [
    "myDataframe[['Name', 'Age']]"
   ]
  },
  {
   "cell_type": "code",
   "execution_count": null,
   "id": "e221fe97",
   "metadata": {},
   "outputs": [],
   "source": []
  },
  {
   "cell_type": "code",
   "execution_count": null,
   "id": "d17b59a3",
   "metadata": {},
   "outputs": [],
   "source": []
  },
  {
   "cell_type": "markdown",
   "id": "41a5cc38",
   "metadata": {},
   "source": [
    "### get the values of rows using loc and iloc"
   ]
  },
  {
   "cell_type": "code",
   "execution_count": null,
   "id": "b27ab162",
   "metadata": {},
   "outputs": [],
   "source": [
    "myDataframe.loc['a']"
   ]
  },
  {
   "cell_type": "code",
   "execution_count": null,
   "id": "08414deb",
   "metadata": {},
   "outputs": [],
   "source": [
    "myDataframe.loc[['a', 'b']]"
   ]
  },
  {
   "cell_type": "code",
   "execution_count": null,
   "id": "9e6cb18b",
   "metadata": {},
   "outputs": [],
   "source": [
    "myDataframe.iloc[0]"
   ]
  },
  {
   "cell_type": "code",
   "execution_count": null,
   "id": "9f5edaad",
   "metadata": {},
   "outputs": [],
   "source": [
    "myDataframe.iloc[[2,1]]"
   ]
  },
  {
   "cell_type": "code",
   "execution_count": null,
   "id": "9d93a221",
   "metadata": {},
   "outputs": [],
   "source": [
    "myDataframe"
   ]
  },
  {
   "cell_type": "markdown",
   "id": "33adf138",
   "metadata": {},
   "source": [
    "### Values of a specific elements"
   ]
  },
  {
   "cell_type": "code",
   "execution_count": null,
   "id": "9bb90c9e",
   "metadata": {},
   "outputs": [],
   "source": [
    "myDataframe.loc['a', 'Age']"
   ]
  },
  {
   "cell_type": "code",
   "execution_count": null,
   "id": "7469cce7",
   "metadata": {},
   "outputs": [],
   "source": [
    "myDataframe.loc['b', ['Name', 'Age']]"
   ]
  },
  {
   "cell_type": "code",
   "execution_count": null,
   "id": "40e96937",
   "metadata": {},
   "outputs": [],
   "source": [
    "myDataframe.loc[['a', 'b'], ['Name', 'Age']]"
   ]
  },
  {
   "cell_type": "code",
   "execution_count": null,
   "id": "fb28e5b1",
   "metadata": {},
   "outputs": [],
   "source": [
    "myDataframe.iloc[[0, 1], [0, 1]]"
   ]
  },
  {
   "cell_type": "markdown",
   "id": "470d12b3",
   "metadata": {},
   "source": [
    "# Part 2"
   ]
  },
  {
   "cell_type": "code",
   "execution_count": null,
   "id": "959731b9",
   "metadata": {},
   "outputs": [],
   "source": []
  },
  {
   "cell_type": "code",
   "execution_count": null,
   "id": "b8efac2c",
   "metadata": {},
   "outputs": [],
   "source": [
    "# Get the iris data\n",
    "iris = datasets.load_iris()\n",
    "cols = ['SepalLengthCm','SepalWidthCm','PetalLengthCm','PetalWidthCm']\n",
    "data = pd.DataFrame(iris.data, columns=cols)"
   ]
  },
  {
   "cell_type": "markdown",
   "id": "ba660103",
   "metadata": {},
   "source": [
    "### The first few rows "
   ]
  },
  {
   "cell_type": "code",
   "execution_count": null,
   "id": "7ddcab92",
   "metadata": {},
   "outputs": [],
   "source": [
    "data.head(3)"
   ]
  },
  {
   "cell_type": "markdown",
   "id": "05418c5f",
   "metadata": {},
   "source": [
    "### The last few rows"
   ]
  },
  {
   "cell_type": "code",
   "execution_count": null,
   "id": "bc3c96ec",
   "metadata": {},
   "outputs": [],
   "source": [
    "data.tail()"
   ]
  },
  {
   "cell_type": "code",
   "execution_count": null,
   "id": "d92999c9",
   "metadata": {},
   "outputs": [],
   "source": [
    "data.values"
   ]
  },
  {
   "cell_type": "markdown",
   "id": "6fa07aa0",
   "metadata": {},
   "source": [
    "### Dimension of a dataframe"
   ]
  },
  {
   "cell_type": "code",
   "execution_count": null,
   "id": "afb44773",
   "metadata": {},
   "outputs": [],
   "source": [
    "data.shape"
   ]
  },
  {
   "cell_type": "code",
   "execution_count": null,
   "id": "0b21b9db",
   "metadata": {},
   "outputs": [],
   "source": [
    "data.describe().T"
   ]
  },
  {
   "cell_type": "code",
   "execution_count": null,
   "id": "1bfef628",
   "metadata": {},
   "outputs": [],
   "source": []
  },
  {
   "cell_type": "markdown",
   "id": "76c87870",
   "metadata": {},
   "source": [
    "### Reset index"
   ]
  },
  {
   "cell_type": "code",
   "execution_count": null,
   "id": "092e7ba6",
   "metadata": {},
   "outputs": [],
   "source": [
    "data.index"
   ]
  },
  {
   "cell_type": "code",
   "execution_count": null,
   "id": "1cc6ae2a",
   "metadata": {},
   "outputs": [],
   "source": [
    "ind = np.arange(1, len(data)+1)\n",
    "data['index'] = ind\n",
    "data = data.set_index('index')\n",
    "data.head()"
   ]
  },
  {
   "cell_type": "code",
   "execution_count": null,
   "id": "2ec0f8e2",
   "metadata": {},
   "outputs": [],
   "source": []
  },
  {
   "cell_type": "markdown",
   "id": "c211b644",
   "metadata": {},
   "source": [
    "## change the column name"
   ]
  },
  {
   "cell_type": "code",
   "execution_count": null,
   "id": "027c6da3",
   "metadata": {},
   "outputs": [],
   "source": [
    "# To change the names of all columns\n",
    "data.columns = ['SepalL', 'SepalW', 'PetalL', 'PetalW']\n",
    "data.head(2)"
   ]
  },
  {
   "cell_type": "code",
   "execution_count": null,
   "id": "df2858b2",
   "metadata": {},
   "outputs": [],
   "source": [
    "# To change the name of some columns\n",
    "print(data.rename(columns={'SepalL': 'SepalLen','SepalW': 'SepalWid'}).head(3))"
   ]
  },
  {
   "cell_type": "code",
   "execution_count": null,
   "id": "45175d7d",
   "metadata": {},
   "outputs": [],
   "source": []
  },
  {
   "cell_type": "markdown",
   "id": "8df9200e",
   "metadata": {},
   "source": [
    "## Insert and remove columns"
   ]
  },
  {
   "cell_type": "code",
   "execution_count": null,
   "id": "dcd765f5",
   "metadata": {},
   "outputs": [],
   "source": [
    "data['one'] = 1\n",
    "data.head(3)"
   ]
  },
  {
   "cell_type": "code",
   "execution_count": null,
   "id": "68d6c058",
   "metadata": {},
   "outputs": [],
   "source": [
    "data = data.drop('one', axis=1)  # data.drop(['one', 'PetalW'], axis=1)  \n",
    "data.head(3)"
   ]
  },
  {
   "cell_type": "code",
   "execution_count": null,
   "id": "72bb9ffb",
   "metadata": {},
   "outputs": [],
   "source": [
    "data[\"Category\"] = np.random.choice([\"Yes\", \"No\"], len(data), p=[0.5, 0.5])"
   ]
  },
  {
   "cell_type": "code",
   "execution_count": null,
   "id": "00d7f434",
   "metadata": {},
   "outputs": [],
   "source": [
    "data"
   ]
  },
  {
   "cell_type": "code",
   "execution_count": null,
   "id": "165a0690",
   "metadata": {},
   "outputs": [],
   "source": []
  },
  {
   "cell_type": "markdown",
   "id": "0115de69",
   "metadata": {},
   "source": [
    "### Aggregation functions :  max, min, std, mean, mode"
   ]
  },
  {
   "cell_type": "code",
   "execution_count": null,
   "id": "f20ac1b6",
   "metadata": {},
   "outputs": [],
   "source": [
    "data.SepalL.max()     #data['SepalL'].max()"
   ]
  },
  {
   "cell_type": "code",
   "execution_count": null,
   "id": "42a3a6d6",
   "metadata": {},
   "outputs": [],
   "source": [
    "data[['SepalL', 'SepalW']].max()"
   ]
  },
  {
   "cell_type": "code",
   "execution_count": null,
   "id": "53f30934",
   "metadata": {},
   "outputs": [],
   "source": [
    "data['Category'].mode()"
   ]
  },
  {
   "cell_type": "code",
   "execution_count": null,
   "id": "4ce33ec5",
   "metadata": {},
   "outputs": [],
   "source": [
    "data['Category'].value_counts()"
   ]
  },
  {
   "cell_type": "code",
   "execution_count": null,
   "id": "dbbc52ac",
   "metadata": {},
   "outputs": [],
   "source": [
    "data['Category'].unique()"
   ]
  },
  {
   "cell_type": "code",
   "execution_count": null,
   "id": "ba3f695a",
   "metadata": {},
   "outputs": [],
   "source": []
  },
  {
   "cell_type": "markdown",
   "id": "75167a83",
   "metadata": {},
   "source": [
    "# Slicing \n",
    "\n",
    "`selecting rows by content`\n",
    "\n",
    "select rows based on their contents using `Boolean indexing`."
   ]
  },
  {
   "cell_type": "markdown",
   "id": "fc3ff927",
   "metadata": {},
   "source": [
    "1. Write a logical statement about a dataframe. \n",
    "2. Evaluate the statement on each row\n",
    "3. If it evaluates to True, return the row."
   ]
  },
  {
   "cell_type": "code",
   "execution_count": null,
   "id": "535bee93",
   "metadata": {},
   "outputs": [],
   "source": [
    "data[data['Category'] == 'Yes'].head(3)"
   ]
  },
  {
   "cell_type": "code",
   "execution_count": null,
   "id": "9ce70567",
   "metadata": {},
   "outputs": [],
   "source": []
  },
  {
   "cell_type": "code",
   "execution_count": null,
   "id": "2b9b4b4f",
   "metadata": {},
   "outputs": [],
   "source": [
    "data[ data['SepalL'] > 7.5].head(3)"
   ]
  },
  {
   "cell_type": "markdown",
   "id": "6cc6b7d1",
   "metadata": {},
   "source": [
    "The logical operators & (and), | (or), and ~ (not) can be applied to multiple statements."
   ]
  },
  {
   "cell_type": "code",
   "execution_count": null,
   "id": "ccd342c9",
   "metadata": {},
   "outputs": [],
   "source": [
    "data[ (data['SepalL'] > 7.5) & (data['Category'] == 'Yes')]"
   ]
  },
  {
   "cell_type": "code",
   "execution_count": null,
   "id": "fcac6a34",
   "metadata": {},
   "outputs": [],
   "source": []
  },
  {
   "cell_type": "code",
   "execution_count": null,
   "id": "894a9744",
   "metadata": {},
   "outputs": [],
   "source": []
  },
  {
   "cell_type": "code",
   "execution_count": null,
   "id": "1d17f634",
   "metadata": {},
   "outputs": [],
   "source": [
    "data[ data['SepalL'] == data.SepalL.max() ]"
   ]
  },
  {
   "cell_type": "code",
   "execution_count": null,
   "id": "ebb724cb",
   "metadata": {},
   "outputs": [],
   "source": [
    "data[ data['SepalL'] == data.SepalL.max() ][['SepalL', 'SepalW']]"
   ]
  },
  {
   "cell_type": "markdown",
   "id": "c39d408a",
   "metadata": {},
   "source": [
    "### selecting by group: groupby  \n",
    "The groupby method divides a DataFrame into subsets and performs an aggregate or transformation on each subset independently."
   ]
  },
  {
   "cell_type": "code",
   "execution_count": null,
   "id": "ab9fd0af",
   "metadata": {},
   "outputs": [],
   "source": [
    "data.groupby('Category')"
   ]
  },
  {
   "cell_type": "code",
   "execution_count": null,
   "id": "8de74603",
   "metadata": {},
   "outputs": [],
   "source": [
    "data.groupby('Category').sum()"
   ]
  },
  {
   "cell_type": "code",
   "execution_count": null,
   "id": "35e63645",
   "metadata": {},
   "outputs": [],
   "source": [
    "data.groupby('Category').aggregate([min, np.median, max])"
   ]
  },
  {
   "cell_type": "code",
   "execution_count": null,
   "id": "2f2fb1f8",
   "metadata": {},
   "outputs": [],
   "source": [
    "data.groupby('Category').aggregate({'SepalL': 'min', 'SepalW': 'max'})"
   ]
  },
  {
   "cell_type": "code",
   "execution_count": null,
   "id": "5bcfedcb",
   "metadata": {},
   "outputs": [],
   "source": []
  },
  {
   "cell_type": "markdown",
   "id": "285c30cb",
   "metadata": {},
   "source": [
    "`Transformation` \n",
    "Aggregation returns a shorter version of the data, whereas transformation returns the full data modified.\n",
    "For example center the data by subtracting the group-wise mean:"
   ]
  },
  {
   "cell_type": "code",
   "execution_count": null,
   "id": "f278837d",
   "metadata": {},
   "outputs": [],
   "source": [
    "data.groupby('Category').transform(lambda x: x - x.mean())"
   ]
  },
  {
   "cell_type": "code",
   "execution_count": null,
   "id": "fdcdf289",
   "metadata": {},
   "outputs": [],
   "source": []
  },
  {
   "cell_type": "code",
   "execution_count": null,
   "id": "ec023bc3",
   "metadata": {},
   "outputs": [],
   "source": []
  },
  {
   "cell_type": "code",
   "execution_count": null,
   "id": "1c511b03",
   "metadata": {},
   "outputs": [],
   "source": []
  },
  {
   "cell_type": "markdown",
   "id": "75a399d9",
   "metadata": {},
   "source": [
    "### Manipulating the Data in a DataFrame"
   ]
  },
  {
   "cell_type": "code",
   "execution_count": null,
   "id": "dcc0e5a4",
   "metadata": {},
   "outputs": [],
   "source": [
    "2*data['SepalL']"
   ]
  },
  {
   "cell_type": "code",
   "execution_count": null,
   "id": "f60ebebb",
   "metadata": {},
   "outputs": [],
   "source": [
    "np.exp(data['SepalL'])"
   ]
  },
  {
   "cell_type": "code",
   "execution_count": null,
   "id": "59814f0f",
   "metadata": {},
   "outputs": [],
   "source": [
    "data['SepalL'].sum()"
   ]
  },
  {
   "cell_type": "code",
   "execution_count": null,
   "id": "54171e35",
   "metadata": {},
   "outputs": [],
   "source": [
    "data[data['Category'] == 'Yes']['SepalL'].sum()"
   ]
  },
  {
   "cell_type": "code",
   "execution_count": null,
   "id": "a8662644",
   "metadata": {},
   "outputs": [],
   "source": [
    "# create a new column\n",
    "data['Sepal'] = data['SepalL'] + data['SepalW']\n",
    "data.head(2)"
   ]
  },
  {
   "cell_type": "code",
   "execution_count": null,
   "id": "65e83aa1",
   "metadata": {},
   "outputs": [],
   "source": []
  },
  {
   "cell_type": "markdown",
   "id": "85bdc602",
   "metadata": {},
   "source": [
    "# Part 3"
   ]
  },
  {
   "cell_type": "markdown",
   "id": "3f82975c",
   "metadata": {},
   "source": [
    "## Merge dataframes"
   ]
  },
  {
   "cell_type": "markdown",
   "id": "74e5d687",
   "metadata": {},
   "source": [
    "### DataFrames can be combined by merge, join, concate, and append"
   ]
  },
  {
   "cell_type": "markdown",
   "id": "bdcad5be",
   "metadata": {},
   "source": [
    "A variety of joins are implemented using the pd.merge() function: \n",
    "\n",
    "`one-to-one`,\n",
    "`many-to-one`, \n",
    "`many-to-many` joins."
   ]
  },
  {
   "cell_type": "markdown",
   "id": "d99d6af4",
   "metadata": {},
   "source": [
    "pd.merge(right, how='inner', on=None, left_on=None, \n",
    "                   right_on=None, left_index=False, right_index=False, \n",
    "                   sort=False, suffixes=('_x', '_y'), \n",
    "                    copy=None, indicator=False, validate=None)"
   ]
  },
  {
   "cell_type": "code",
   "execution_count": null,
   "id": "ec9828f7",
   "metadata": {},
   "outputs": [],
   "source": [
    "display.Image(\"merge.png\")"
   ]
  },
  {
   "cell_type": "markdown",
   "id": "09c215d9",
   "metadata": {},
   "source": [
    "The following examples are from \n",
    "`Python Data Science Handbook Essential Tools for Working with Data by Jake VanderPlas`"
   ]
  },
  {
   "cell_type": "markdown",
   "id": "1793b856",
   "metadata": {},
   "source": [
    "### One-to-one joins"
   ]
  },
  {
   "cell_type": "code",
   "execution_count": null,
   "id": "dbee3a5e",
   "metadata": {},
   "outputs": [],
   "source": [
    "df1 = pd.DataFrame({'employee': ['Bob', 'Jake', 'Lisa', 'Sue'],\n",
    "'group': ['Accounting', 'Engineering', 'Engineering', 'HR']})\n",
    "\n",
    "df2 = pd.DataFrame({'employee': ['Lisa', 'Bob', 'Jake', 'Sue'],\n",
    "'hire_date': [2004, 2008, 2012, 2014]})\n",
    "print(df1)\n",
    "print(df2)"
   ]
  },
  {
   "cell_type": "code",
   "execution_count": null,
   "id": "d9799a82",
   "metadata": {},
   "outputs": [],
   "source": [
    "display.Image(\"merge.png\")"
   ]
  },
  {
   "cell_type": "code",
   "execution_count": null,
   "id": "b21b498f",
   "metadata": {},
   "outputs": [],
   "source": [
    "# The \"employee\" column in each DataFrame is recognised by the pd.merge() \n",
    "#function, which then automatically merges the data using this column as a key.\n",
    "df3 = pd.merge(df1, df2)\n",
    "df3"
   ]
  },
  {
   "cell_type": "markdown",
   "id": "aa8a974a",
   "metadata": {},
   "source": [
    "### Many-to-one joins\n",
    "The many-to-one joins occur when one of the two main columns has duplicate data. The resulting DataFrame will maintain those duplicate entries as necessary."
   ]
  },
  {
   "cell_type": "code",
   "execution_count": null,
   "id": "5a362c87",
   "metadata": {},
   "outputs": [],
   "source": [
    "display.Image(\"merge2.png\")"
   ]
  },
  {
   "cell_type": "code",
   "execution_count": null,
   "id": "0f282e01",
   "metadata": {},
   "outputs": [],
   "source": [
    "df4 = pd.DataFrame({'group': ['Accounting', 'Engineering', 'HR'],\n",
    "'supervisor': ['Carly', 'Guido', 'Steve']})\n",
    "df4"
   ]
  },
  {
   "cell_type": "code",
   "execution_count": null,
   "id": "eb913869",
   "metadata": {},
   "outputs": [],
   "source": [
    "df3"
   ]
  },
  {
   "cell_type": "code",
   "execution_count": null,
   "id": "333c42e6",
   "metadata": {},
   "outputs": [],
   "source": [
    "pd.merge(df3, df4)"
   ]
  },
  {
   "cell_type": "markdown",
   "id": "6583f015",
   "metadata": {},
   "source": [
    "### Many-to-many joins\n",
    "A many-to-many merge occurs when the key column in both the left and right dataframes has duplicate values."
   ]
  },
  {
   "cell_type": "code",
   "execution_count": null,
   "id": "93772ed2",
   "metadata": {},
   "outputs": [],
   "source": [
    "df5 = pd.DataFrame({'group': ['Accounting', 'Accounting',\n",
    "'Engineering', 'Engineering', 'HR', 'HR'],\n",
    "'skills': ['math', 'spreadsheets', 'coding', 'linux',\n",
    "'spreadsheets', 'organization']})\n",
    "df5"
   ]
  },
  {
   "cell_type": "code",
   "execution_count": null,
   "id": "a1736b5e",
   "metadata": {},
   "outputs": [],
   "source": [
    "display.Image(\"merge3.png\")"
   ]
  },
  {
   "cell_type": "code",
   "execution_count": null,
   "id": "9a255f66",
   "metadata": {},
   "outputs": [],
   "source": [
    "pd.merge(df1, df5)"
   ]
  },
  {
   "cell_type": "markdown",
   "id": "7176c51e",
   "metadata": {},
   "source": [
    "## Specification of the Merge Key"
   ]
  },
  {
   "cell_type": "code",
   "execution_count": null,
   "id": "3c1ccac9",
   "metadata": {},
   "outputs": [],
   "source": [
    "pd.merge(df1, df2, on='employee')  "
   ]
  },
  {
   "cell_type": "markdown",
   "id": "1639c40b",
   "metadata": {},
   "source": [
    "### The left_on and right_on keywords\n",
    "When dataframes have different column names, we can specify the two column names using the left_on and right_on keywords."
   ]
  },
  {
   "cell_type": "code",
   "execution_count": null,
   "id": "ed4bf800",
   "metadata": {},
   "outputs": [],
   "source": [
    "df3 = pd.DataFrame({'name': ['Bob', 'Jake', 'Lisa', 'Sue'],\n",
    "'salary': [70000, 80000, 120000, 90000]})\n",
    "print(df1); print(df3);\n",
    "print(pd.merge(df1, df3, left_on=\"employee\", right_on=\"name\"))"
   ]
  },
  {
   "cell_type": "code",
   "execution_count": null,
   "id": "7bf4090e",
   "metadata": {},
   "outputs": [],
   "source": [
    "# We can drop the redundant column \n",
    "pd.merge(df1, df3, left_on=\"employee\", right_on=\"name\").drop('name', axis=1)"
   ]
  },
  {
   "cell_type": "markdown",
   "id": "b343bb7c",
   "metadata": {},
   "source": [
    "## Specifying Set Arithmetic for Joins\n",
    "## Types of join"
   ]
  },
  {
   "cell_type": "code",
   "execution_count": null,
   "id": "18bb328b",
   "metadata": {},
   "outputs": [],
   "source": [
    "display.Image(\"joins.jpg\", width=300)"
   ]
  },
  {
   "cell_type": "code",
   "execution_count": null,
   "id": "b35c7211",
   "metadata": {},
   "outputs": [],
   "source": []
  },
  {
   "cell_type": "code",
   "execution_count": null,
   "id": "5258e37d",
   "metadata": {},
   "outputs": [],
   "source": [
    "df6 = pd.DataFrame({'name': ['Peter', 'Paul', 'Mary'],\n",
    "'food': ['fish', 'beans', 'bread']},\n",
    "columns=['name', 'food'])\n",
    "df7 = pd.DataFrame({'name': ['Mary', 'Joseph'],\n",
    "'drink': ['wine', 'beer']},\n",
    "columns=['name', 'drink'])\n",
    "print(df6) \n",
    "print(df7)\n",
    "print(pd.merge(df6, df7))"
   ]
  },
  {
   "cell_type": "markdown",
   "id": "ab7e90b1",
   "metadata": {},
   "source": [
    "### inner\n",
    "Just return rows from both DataFrames that match."
   ]
  },
  {
   "cell_type": "code",
   "execution_count": null,
   "id": "d05fc593",
   "metadata": {},
   "outputs": [],
   "source": [
    "pd.merge(df6, df7, how='inner')"
   ]
  },
  {
   "cell_type": "markdown",
   "id": "eddc1c2d",
   "metadata": {},
   "source": [
    "### outer\n",
    "Return back every row from both DataFrames. Put NaN values in place of missing values when a row appears in one DataFrame but not the other."
   ]
  },
  {
   "cell_type": "code",
   "execution_count": null,
   "id": "0e0f53ea",
   "metadata": {},
   "outputs": [],
   "source": [
    "pd.merge(df6, df7, how='outer')"
   ]
  },
  {
   "cell_type": "markdown",
   "id": "02649126",
   "metadata": {},
   "source": [
    "### Left\n",
    "Return all rows from the left DataFrame but only rows from the right DataFrame\n",
    "that matched with the left DataFrame. Fill NaN values for the missing values"
   ]
  },
  {
   "cell_type": "code",
   "execution_count": null,
   "id": "23a138f0",
   "metadata": {},
   "outputs": [],
   "source": [
    "pd.merge(df6, df7, how='left')"
   ]
  },
  {
   "cell_type": "markdown",
   "id": "d9c75817",
   "metadata": {},
   "source": [
    "### Right\n",
    "Only rows from the left DataFrame that matched the right DataFrame will be returned and replace any missing values with NaN values."
   ]
  },
  {
   "cell_type": "code",
   "execution_count": null,
   "id": "fdd179c2",
   "metadata": {},
   "outputs": [],
   "source": [
    "pd.merge(df6, df7, how='right')"
   ]
  },
  {
   "cell_type": "code",
   "execution_count": null,
   "id": "7948660a",
   "metadata": {},
   "outputs": [],
   "source": []
  },
  {
   "cell_type": "code",
   "execution_count": null,
   "id": "b45be571",
   "metadata": {},
   "outputs": [],
   "source": []
  },
  {
   "cell_type": "code",
   "execution_count": null,
   "id": "06899787",
   "metadata": {},
   "outputs": [],
   "source": []
  },
  {
   "cell_type": "code",
   "execution_count": null,
   "id": "c83ebc85",
   "metadata": {},
   "outputs": [],
   "source": []
  }
 ],
 "metadata": {
  "kernelspec": {
   "display_name": "Python 3",
   "language": "python",
   "name": "python3"
  },
  "language_info": {
   "codemirror_mode": {
    "name": "ipython",
    "version": 3
   },
   "file_extension": ".py",
   "mimetype": "text/x-python",
   "name": "python",
   "nbconvert_exporter": "python",
   "pygments_lexer": "ipython3",
   "version": "3.8.3"
  }
 },
 "nbformat": 4,
 "nbformat_minor": 5
}
